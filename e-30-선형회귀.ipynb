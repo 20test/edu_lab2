{
 "cells": [
  {
   "cell_type": "markdown",
   "metadata": {},
   "source": [
    "선형회귀\n",
    "==\n",
    "다루는 내용\n",
    "--\n",
    "- 머신러닝 개념\n",
    "- 경사하강법"
   ]
  },
  {
   "cell_type": "code",
   "execution_count": 12,
   "metadata": {},
   "outputs": [],
   "source": [
    "import  numpy as np"
   ]
  },
  {
   "cell_type": "code",
   "execution_count": 13,
   "metadata": {},
   "outputs": [
    {
     "name": "stdout",
     "output_type": "stream",
     "text": [
      "(10,)\n"
     ]
    },
    {
     "data": {
      "text/plain": [
       "array([0.37866364, 0.27941652, 0.69265215, 0.98835957, 0.42319402,\n",
       "       0.10227267, 0.81398303, 0.67569511, 0.48649073, 0.25003503])"
      ]
     },
     "execution_count": 13,
     "metadata": {},
     "output_type": "execute_result"
    }
   ],
   "source": [
    "x = np.random.uniform(low=0.0, high=1.0, size=10)\n",
    "print(x.shape)\n",
    "x"
   ]
  },
  {
   "cell_type": "markdown",
   "metadata": {},
   "source": [
    "종속변수 y = wx + b 생성\n",
    "--"
   ]
  },
  {
   "cell_type": "code",
   "execution_count": 14,
   "metadata": {},
   "outputs": [
    {
     "name": "stdout",
     "output_type": "stream",
     "text": [
      "(10,)\n"
     ]
    },
    {
     "data": {
      "text/plain": [
       "array([2037.86636408, 2027.94165168, 2069.26521502, 2098.83595664,\n",
       "       2042.31940181, 2010.227267  , 2081.39830287, 2067.56951064,\n",
       "       2048.64907255, 2025.00350306])"
      ]
     },
     "execution_count": 14,
     "metadata": {},
     "output_type": "execute_result"
    }
   ],
   "source": [
    "# w=10 , b=2\n",
    "y = 100* x + 2000\n",
    "print (y.shape)\n",
    "y"
   ]
  },
  {
   "cell_type": "markdown",
   "metadata": {},
   "source": [
    "가중치 w와 절편 b 학습\n",
    "--"
   ]
  },
  {
   "cell_type": "markdown",
   "metadata": {},
   "source": [
    " 경사하강법\n",
    "--"
   ]
  },
  {
   "cell_type": "code",
   "execution_count": 15,
   "metadata": {},
   "outputs": [],
   "source": [
    "num_epoch = 300\n",
    "\n",
    "# 초기값은 랜덤하게 지정\n",
    "w = np.random.uniform(low=0.0, high=1.0)\n",
    "b = np.random.uniform(low=0.0, high=1.0)"
   ]
  },
  {
   "cell_type": "code",
   "execution_count": 16,
   "metadata": {},
   "outputs": [
    {
     "data": {
      "text/plain": [
       "(0.42048245838699483, 0.05552273566099819)"
      ]
     },
     "execution_count": 16,
     "metadata": {},
     "output_type": "execute_result"
    }
   ],
   "source": [
    "w,b"
   ]
  },
  {
   "cell_type": "code",
   "execution_count": 17,
   "metadata": {},
   "outputs": [
    {
     "name": "stdout",
     "output_type": "stream",
     "text": [
      " 0  w = 0.4205 ,  b = 0.0555 , error = 2050.6380\n",
      "10  w = 532.5732 ,  b = 1767.0892 , error = 100.6805\n",
      "20  w = 346.9910 ,  b = 1867.0152 , error = 57.4861\n",
      "30  w = 241.0265 ,  b = 1924.0686 , error = 32.8233\n",
      "40  w = 180.5231 ,  b = 1956.6448 , error = 18.7414\n",
      "50  w = 145.9769 ,  b = 1975.2451 , error = 10.7009\n",
      "60  w = 126.2518 ,  b = 1985.8655 , error = 6.1100\n",
      "70  w = 114.9892 ,  b = 1991.9295 , error = 3.4887\n",
      "80  w = 108.5585 ,  b = 1995.3919 , error = 1.9920\n",
      "90  w = 104.8867 ,  b = 1997.3689 , error = 1.1374\n",
      "100  w = 102.7902 ,  b = 1998.4977 , error = 0.6494\n",
      "110  w = 101.5932 ,  b = 1999.1422 , error = 0.3708\n",
      "120  w = 100.9097 ,  b = 1999.5102 , error = 0.2117\n",
      "130  w = 100.5194 ,  b = 1999.7203 , error = 0.1209\n",
      "140  w = 100.2966 ,  b = 1999.8403 , error = 0.0690\n",
      "------------------------------\n",
      "146  w = 100.2119 ,  b = 1999.8859 , error = 0.0493\n"
     ]
    }
   ],
   "source": [
    "for epoch in range(num_epoch):\n",
    "    y_pred = w*x + b\n",
    "    error = np.abs(y_pred - y).mean()\n",
    "    if error < 0.05:\n",
    "        break\n",
    "    if (epoch % 10) == 0:\n",
    "        print(f\"{epoch:2}  w = {w:.4f} ,  b = {b:.4f} , error = {error:.4f}\")\n",
    " \n",
    "    w = w - ((y_pred - y)*x).mean()\n",
    "    b = b - (y_pred - y).mean()\n",
    "\n",
    "print(\"---\" * 10)\n",
    "print(f\"{epoch:2}  w = {w:.4f} ,  b = {b:.4f} , error = {error:.4f}\")"
   ]
  },
  {
   "cell_type": "markdown",
   "metadata": {},
   "source": [
    "변수가 2개인 경우\n",
    "--"
   ]
  },
  {
   "cell_type": "code",
   "execution_count": 18,
   "metadata": {},
   "outputs": [],
   "source": [
    "x1 = np.random.uniform(low=0.0, high=1.0, size=100)\n",
    "x2 = np.random.uniform(low=0.0, high=1.0, size=100)\n",
    "\n",
    "y = 10 * x1 + 20* x2 + 2"
   ]
  },
  {
   "cell_type": "code",
   "execution_count": 19,
   "metadata": {},
   "outputs": [
    {
     "name": "stdout",
     "output_type": "stream",
     "text": [
      "(100,)\n"
     ]
    },
    {
     "data": {
      "text/plain": [
       "array([15.01672231,  7.11738243])"
      ]
     },
     "execution_count": 19,
     "metadata": {},
     "output_type": "execute_result"
    }
   ],
   "source": [
    "print(y.shape)\n",
    "y[:2]"
   ]
  },
  {
   "cell_type": "markdown",
   "metadata": {},
   "source": [
    "학습속도를 반영\n",
    "--"
   ]
  },
  {
   "cell_type": "code",
   "execution_count": 20,
   "metadata": {
    "scrolled": false
   },
   "outputs": [
    {
     "name": "stdout",
     "output_type": "stream",
     "text": [
      " 0 w1 = 1.214781,  w2 = 1.348375, b = 2.275266 , error = 18.094753\n",
      "100 w1 = 7.168130,  w2 = 13.157742, b = 7.726010 , error = 1.837044\n",
      "200 w1 = 7.974804,  w2 = 16.305624, b = 5.361340 , error = 1.044819\n",
      "300 w1 = 8.625555,  w2 = 17.981962, b = 3.981878 , error = 0.605613\n",
      "400 w1 = 9.097345,  w2 = 18.885053, b = 3.172845 , error = 0.354700\n",
      "500 w1 = 9.420151,  w2 = 19.377269, b = 2.696205 , error = 0.209737\n",
      "600 w1 = 9.633276,  w2 = 19.648630, b = 2.414322 , error = 0.124617\n",
      "700 w1 = 9.770683,  w2 = 19.799884, b = 2.247087 , error = 0.074227\n",
      "800 w1 = 9.857813,  w2 = 19.885067, b = 2.147607 , error = 0.044331\n",
      "900 w1 = 9.912401,  w2 = 19.933498, b = 2.088303 , error = 0.026524\n",
      "1000 w1 = 9.946297,  w2 = 19.961270, b = 2.052887 , error = 0.015906\n",
      "------------------------------\n",
      "1092 w1 = 9.9657,  w2 = 19.9762, b = 2.0332, error = 0.0100\n"
     ]
    }
   ],
   "source": [
    "num_epoch = 10000\n",
    "learning_rate = 0.1\n",
    "\n",
    "w1 = np.random.uniform(low=0.0, high=1.0)\n",
    "w2 = np.random.uniform(low=0.0, high=1.0)\n",
    "b = np.random.uniform(low=0.0, high=1.0)\n",
    "\n",
    "for epoch in range(num_epoch):\n",
    "    y_pred = w1*x1 + w2*x2 + b\n",
    "    error = np.abs(y_pred - y).mean()\n",
    "    if error < 0.01:\n",
    "        break\n",
    "    w1 = w1 - learning_rate*((y_pred - y)* x1).mean()\n",
    "    w2 = w2 - learning_rate*((y_pred - y)* x2).mean()\n",
    "    b = b -learning_rate* ((y_pred - y)).mean()\n",
    "\n",
    "    if epoch % 100 == 0:\n",
    "        print(f\"{epoch:2} w1 = {w1:.6f},  w2 = {w2:.6f}, b = {b:.6f} , error = {error:.6f}\")\n",
    "\n",
    "print(\"---\" * 10)\n",
    "print(f\"{epoch:2} w1 = {w1:.4f},  w2 = {w2:.4f}, b = {b:.4f}, error = {error:.4f}\")"
   ]
  },
  {
   "cell_type": "markdown",
   "metadata": {},
   "source": [
    "라이브러리를 이용\n",
    "--"
   ]
  },
  {
   "cell_type": "code",
   "execution_count": 21,
   "metadata": {},
   "outputs": [],
   "source": [
    "import pandas as pd\n",
    "from sklearn.linear_model import LinearRegression\n",
    "\n",
    "X = pd.DataFrame(x1)\n",
    "X[1]= x2"
   ]
  },
  {
   "cell_type": "code",
   "execution_count": 22,
   "metadata": {},
   "outputs": [
    {
     "data": {
      "text/html": [
       "<div>\n",
       "<style scoped>\n",
       "    .dataframe tbody tr th:only-of-type {\n",
       "        vertical-align: middle;\n",
       "    }\n",
       "\n",
       "    .dataframe tbody tr th {\n",
       "        vertical-align: top;\n",
       "    }\n",
       "\n",
       "    .dataframe thead th {\n",
       "        text-align: right;\n",
       "    }\n",
       "</style>\n",
       "<table border=\"1\" class=\"dataframe\">\n",
       "  <thead>\n",
       "    <tr style=\"text-align: right;\">\n",
       "      <th></th>\n",
       "      <th>0</th>\n",
       "      <th>1</th>\n",
       "    </tr>\n",
       "  </thead>\n",
       "  <tbody>\n",
       "    <tr>\n",
       "      <th>0</th>\n",
       "      <td>0.171214</td>\n",
       "      <td>0.565229</td>\n",
       "    </tr>\n",
       "    <tr>\n",
       "      <th>1</th>\n",
       "      <td>0.007819</td>\n",
       "      <td>0.251960</td>\n",
       "    </tr>\n",
       "    <tr>\n",
       "      <th>2</th>\n",
       "      <td>0.282633</td>\n",
       "      <td>0.553403</td>\n",
       "    </tr>\n",
       "    <tr>\n",
       "      <th>3</th>\n",
       "      <td>0.046269</td>\n",
       "      <td>0.138076</td>\n",
       "    </tr>\n",
       "    <tr>\n",
       "      <th>4</th>\n",
       "      <td>0.838344</td>\n",
       "      <td>0.193940</td>\n",
       "    </tr>\n",
       "    <tr>\n",
       "      <th>5</th>\n",
       "      <td>0.426620</td>\n",
       "      <td>0.654379</td>\n",
       "    </tr>\n",
       "    <tr>\n",
       "      <th>6</th>\n",
       "      <td>0.797359</td>\n",
       "      <td>0.747410</td>\n",
       "    </tr>\n",
       "    <tr>\n",
       "      <th>7</th>\n",
       "      <td>0.855445</td>\n",
       "      <td>0.207972</td>\n",
       "    </tr>\n",
       "    <tr>\n",
       "      <th>8</th>\n",
       "      <td>0.533171</td>\n",
       "      <td>0.493959</td>\n",
       "    </tr>\n",
       "    <tr>\n",
       "      <th>9</th>\n",
       "      <td>0.604027</td>\n",
       "      <td>0.933505</td>\n",
       "    </tr>\n",
       "    <tr>\n",
       "      <th>10</th>\n",
       "      <td>0.674984</td>\n",
       "      <td>0.280155</td>\n",
       "    </tr>\n",
       "    <tr>\n",
       "      <th>11</th>\n",
       "      <td>0.469620</td>\n",
       "      <td>0.049964</td>\n",
       "    </tr>\n",
       "    <tr>\n",
       "      <th>12</th>\n",
       "      <td>0.362184</td>\n",
       "      <td>0.980279</td>\n",
       "    </tr>\n",
       "    <tr>\n",
       "      <th>13</th>\n",
       "      <td>0.446935</td>\n",
       "      <td>0.393512</td>\n",
       "    </tr>\n",
       "    <tr>\n",
       "      <th>14</th>\n",
       "      <td>0.567257</td>\n",
       "      <td>0.476570</td>\n",
       "    </tr>\n",
       "    <tr>\n",
       "      <th>15</th>\n",
       "      <td>0.592987</td>\n",
       "      <td>0.411936</td>\n",
       "    </tr>\n",
       "    <tr>\n",
       "      <th>16</th>\n",
       "      <td>0.389867</td>\n",
       "      <td>0.658656</td>\n",
       "    </tr>\n",
       "    <tr>\n",
       "      <th>17</th>\n",
       "      <td>0.675874</td>\n",
       "      <td>0.591524</td>\n",
       "    </tr>\n",
       "    <tr>\n",
       "      <th>18</th>\n",
       "      <td>0.263741</td>\n",
       "      <td>0.836459</td>\n",
       "    </tr>\n",
       "    <tr>\n",
       "      <th>19</th>\n",
       "      <td>0.463167</td>\n",
       "      <td>0.581549</td>\n",
       "    </tr>\n",
       "    <tr>\n",
       "      <th>20</th>\n",
       "      <td>0.022466</td>\n",
       "      <td>0.916717</td>\n",
       "    </tr>\n",
       "    <tr>\n",
       "      <th>21</th>\n",
       "      <td>0.849720</td>\n",
       "      <td>0.864821</td>\n",
       "    </tr>\n",
       "    <tr>\n",
       "      <th>22</th>\n",
       "      <td>0.800356</td>\n",
       "      <td>0.955934</td>\n",
       "    </tr>\n",
       "    <tr>\n",
       "      <th>23</th>\n",
       "      <td>0.360704</td>\n",
       "      <td>0.408270</td>\n",
       "    </tr>\n",
       "    <tr>\n",
       "      <th>24</th>\n",
       "      <td>0.386216</td>\n",
       "      <td>0.693362</td>\n",
       "    </tr>\n",
       "    <tr>\n",
       "      <th>25</th>\n",
       "      <td>0.308153</td>\n",
       "      <td>0.761207</td>\n",
       "    </tr>\n",
       "    <tr>\n",
       "      <th>26</th>\n",
       "      <td>0.761229</td>\n",
       "      <td>0.657404</td>\n",
       "    </tr>\n",
       "    <tr>\n",
       "      <th>27</th>\n",
       "      <td>0.605213</td>\n",
       "      <td>0.441385</td>\n",
       "    </tr>\n",
       "    <tr>\n",
       "      <th>28</th>\n",
       "      <td>0.297220</td>\n",
       "      <td>0.121769</td>\n",
       "    </tr>\n",
       "    <tr>\n",
       "      <th>29</th>\n",
       "      <td>0.452974</td>\n",
       "      <td>0.502006</td>\n",
       "    </tr>\n",
       "    <tr>\n",
       "      <th>...</th>\n",
       "      <td>...</td>\n",
       "      <td>...</td>\n",
       "    </tr>\n",
       "    <tr>\n",
       "      <th>70</th>\n",
       "      <td>0.101842</td>\n",
       "      <td>0.878918</td>\n",
       "    </tr>\n",
       "    <tr>\n",
       "      <th>71</th>\n",
       "      <td>0.856105</td>\n",
       "      <td>0.986989</td>\n",
       "    </tr>\n",
       "    <tr>\n",
       "      <th>72</th>\n",
       "      <td>0.314957</td>\n",
       "      <td>0.920034</td>\n",
       "    </tr>\n",
       "    <tr>\n",
       "      <th>73</th>\n",
       "      <td>0.145410</td>\n",
       "      <td>0.029059</td>\n",
       "    </tr>\n",
       "    <tr>\n",
       "      <th>74</th>\n",
       "      <td>0.685851</td>\n",
       "      <td>0.760028</td>\n",
       "    </tr>\n",
       "    <tr>\n",
       "      <th>75</th>\n",
       "      <td>0.246162</td>\n",
       "      <td>0.006626</td>\n",
       "    </tr>\n",
       "    <tr>\n",
       "      <th>76</th>\n",
       "      <td>0.636686</td>\n",
       "      <td>0.728988</td>\n",
       "    </tr>\n",
       "    <tr>\n",
       "      <th>77</th>\n",
       "      <td>0.170338</td>\n",
       "      <td>0.691105</td>\n",
       "    </tr>\n",
       "    <tr>\n",
       "      <th>78</th>\n",
       "      <td>0.075842</td>\n",
       "      <td>0.850112</td>\n",
       "    </tr>\n",
       "    <tr>\n",
       "      <th>79</th>\n",
       "      <td>0.877616</td>\n",
       "      <td>0.483232</td>\n",
       "    </tr>\n",
       "    <tr>\n",
       "      <th>80</th>\n",
       "      <td>0.970168</td>\n",
       "      <td>0.010029</td>\n",
       "    </tr>\n",
       "    <tr>\n",
       "      <th>81</th>\n",
       "      <td>0.670189</td>\n",
       "      <td>0.982679</td>\n",
       "    </tr>\n",
       "    <tr>\n",
       "      <th>82</th>\n",
       "      <td>0.427163</td>\n",
       "      <td>0.563297</td>\n",
       "    </tr>\n",
       "    <tr>\n",
       "      <th>83</th>\n",
       "      <td>0.971991</td>\n",
       "      <td>0.983288</td>\n",
       "    </tr>\n",
       "    <tr>\n",
       "      <th>84</th>\n",
       "      <td>0.966406</td>\n",
       "      <td>0.565366</td>\n",
       "    </tr>\n",
       "    <tr>\n",
       "      <th>85</th>\n",
       "      <td>0.487651</td>\n",
       "      <td>0.004850</td>\n",
       "    </tr>\n",
       "    <tr>\n",
       "      <th>86</th>\n",
       "      <td>0.097144</td>\n",
       "      <td>0.736782</td>\n",
       "    </tr>\n",
       "    <tr>\n",
       "      <th>87</th>\n",
       "      <td>0.204472</td>\n",
       "      <td>0.184170</td>\n",
       "    </tr>\n",
       "    <tr>\n",
       "      <th>88</th>\n",
       "      <td>0.704700</td>\n",
       "      <td>0.298908</td>\n",
       "    </tr>\n",
       "    <tr>\n",
       "      <th>89</th>\n",
       "      <td>0.597684</td>\n",
       "      <td>0.965364</td>\n",
       "    </tr>\n",
       "    <tr>\n",
       "      <th>90</th>\n",
       "      <td>0.340233</td>\n",
       "      <td>0.996441</td>\n",
       "    </tr>\n",
       "    <tr>\n",
       "      <th>91</th>\n",
       "      <td>0.020831</td>\n",
       "      <td>0.245987</td>\n",
       "    </tr>\n",
       "    <tr>\n",
       "      <th>92</th>\n",
       "      <td>0.388975</td>\n",
       "      <td>0.314074</td>\n",
       "    </tr>\n",
       "    <tr>\n",
       "      <th>93</th>\n",
       "      <td>0.166137</td>\n",
       "      <td>0.509203</td>\n",
       "    </tr>\n",
       "    <tr>\n",
       "      <th>94</th>\n",
       "      <td>0.807147</td>\n",
       "      <td>0.868320</td>\n",
       "    </tr>\n",
       "    <tr>\n",
       "      <th>95</th>\n",
       "      <td>0.886209</td>\n",
       "      <td>0.488628</td>\n",
       "    </tr>\n",
       "    <tr>\n",
       "      <th>96</th>\n",
       "      <td>0.651647</td>\n",
       "      <td>0.941032</td>\n",
       "    </tr>\n",
       "    <tr>\n",
       "      <th>97</th>\n",
       "      <td>0.716432</td>\n",
       "      <td>0.415973</td>\n",
       "    </tr>\n",
       "    <tr>\n",
       "      <th>98</th>\n",
       "      <td>0.146876</td>\n",
       "      <td>0.944872</td>\n",
       "    </tr>\n",
       "    <tr>\n",
       "      <th>99</th>\n",
       "      <td>0.754366</td>\n",
       "      <td>0.733149</td>\n",
       "    </tr>\n",
       "  </tbody>\n",
       "</table>\n",
       "<p>100 rows × 2 columns</p>\n",
       "</div>"
      ],
      "text/plain": [
       "           0         1\n",
       "0   0.171214  0.565229\n",
       "1   0.007819  0.251960\n",
       "2   0.282633  0.553403\n",
       "3   0.046269  0.138076\n",
       "4   0.838344  0.193940\n",
       "5   0.426620  0.654379\n",
       "6   0.797359  0.747410\n",
       "7   0.855445  0.207972\n",
       "8   0.533171  0.493959\n",
       "9   0.604027  0.933505\n",
       "10  0.674984  0.280155\n",
       "11  0.469620  0.049964\n",
       "12  0.362184  0.980279\n",
       "13  0.446935  0.393512\n",
       "14  0.567257  0.476570\n",
       "15  0.592987  0.411936\n",
       "16  0.389867  0.658656\n",
       "17  0.675874  0.591524\n",
       "18  0.263741  0.836459\n",
       "19  0.463167  0.581549\n",
       "20  0.022466  0.916717\n",
       "21  0.849720  0.864821\n",
       "22  0.800356  0.955934\n",
       "23  0.360704  0.408270\n",
       "24  0.386216  0.693362\n",
       "25  0.308153  0.761207\n",
       "26  0.761229  0.657404\n",
       "27  0.605213  0.441385\n",
       "28  0.297220  0.121769\n",
       "29  0.452974  0.502006\n",
       "..       ...       ...\n",
       "70  0.101842  0.878918\n",
       "71  0.856105  0.986989\n",
       "72  0.314957  0.920034\n",
       "73  0.145410  0.029059\n",
       "74  0.685851  0.760028\n",
       "75  0.246162  0.006626\n",
       "76  0.636686  0.728988\n",
       "77  0.170338  0.691105\n",
       "78  0.075842  0.850112\n",
       "79  0.877616  0.483232\n",
       "80  0.970168  0.010029\n",
       "81  0.670189  0.982679\n",
       "82  0.427163  0.563297\n",
       "83  0.971991  0.983288\n",
       "84  0.966406  0.565366\n",
       "85  0.487651  0.004850\n",
       "86  0.097144  0.736782\n",
       "87  0.204472  0.184170\n",
       "88  0.704700  0.298908\n",
       "89  0.597684  0.965364\n",
       "90  0.340233  0.996441\n",
       "91  0.020831  0.245987\n",
       "92  0.388975  0.314074\n",
       "93  0.166137  0.509203\n",
       "94  0.807147  0.868320\n",
       "95  0.886209  0.488628\n",
       "96  0.651647  0.941032\n",
       "97  0.716432  0.415973\n",
       "98  0.146876  0.944872\n",
       "99  0.754366  0.733149\n",
       "\n",
       "[100 rows x 2 columns]"
      ]
     },
     "execution_count": 22,
     "metadata": {},
     "output_type": "execute_result"
    }
   ],
   "source": [
    "X"
   ]
  },
  {
   "cell_type": "code",
   "execution_count": 23,
   "metadata": {},
   "outputs": [
    {
     "data": {
      "text/plain": [
       "LinearRegression(copy_X=True, fit_intercept=True, n_jobs=1, normalize=False)"
      ]
     },
     "execution_count": 23,
     "metadata": {},
     "output_type": "execute_result"
    }
   ],
   "source": [
    "leg = LinearRegression()\n",
    "leg.fit(X, y)"
   ]
  },
  {
   "cell_type": "code",
   "execution_count": 24,
   "metadata": {},
   "outputs": [
    {
     "name": "stdout",
     "output_type": "stream",
     "text": [
      "[10. 20.]\n",
      "2.0000000000000036\n"
     ]
    }
   ],
   "source": [
    "print(leg.coef_)\n",
    "print(leg.intercept_)"
   ]
  },
  {
   "cell_type": "code",
   "execution_count": null,
   "metadata": {},
   "outputs": [],
   "source": []
  }
 ],
 "metadata": {
  "kernelspec": {
   "display_name": "Python 3",
   "language": "python",
   "name": "python3"
  },
  "language_info": {
   "codemirror_mode": {
    "name": "ipython",
    "version": 3
   },
   "file_extension": ".py",
   "mimetype": "text/x-python",
   "name": "python",
   "nbconvert_exporter": "python",
   "pygments_lexer": "ipython3",
   "version": "3.6.6"
  }
 },
 "nbformat": 4,
 "nbformat_minor": 2
}
